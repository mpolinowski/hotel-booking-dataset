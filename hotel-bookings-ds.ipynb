{
 "cells": [
  {
   "cell_type": "markdown",
   "id": "340c8136",
   "metadata": {},
   "source": [
    "# Hotel Booking Demand Dataset\n",
    "\n",
    "> see [Kaggle](https://www.kaggle.com/datasets/jessemostipak/hotel-booking-demand), [Github](\n",
    "https://github.com/aaqibqadeer/Hotel-booking-demand)"
   ]
  },
  {
   "cell_type": "code",
   "execution_count": 119,
   "id": "25eb0bbc",
   "metadata": {},
   "outputs": [],
   "source": [
    "import numpy as np\n",
    "import pandas as pd\n",
    "import datetime"
   ]
  },
  {
   "cell_type": "markdown",
   "id": "3228ad2d",
   "metadata": {},
   "source": [
    "## Dataset"
   ]
  },
  {
   "cell_type": "code",
   "execution_count": 2,
   "id": "ac11bd5d",
   "metadata": {},
   "outputs": [
    {
     "data": {
      "text/html": [
       "<div>\n",
       "<style scoped>\n",
       "    .dataframe tbody tr th:only-of-type {\n",
       "        vertical-align: middle;\n",
       "    }\n",
       "\n",
       "    .dataframe tbody tr th {\n",
       "        vertical-align: top;\n",
       "    }\n",
       "\n",
       "    .dataframe thead th {\n",
       "        text-align: right;\n",
       "    }\n",
       "</style>\n",
       "<table border=\"1\" class=\"dataframe\">\n",
       "  <thead>\n",
       "    <tr style=\"text-align: right;\">\n",
       "      <th></th>\n",
       "      <th>hotel</th>\n",
       "      <th>is_canceled</th>\n",
       "      <th>lead_time</th>\n",
       "      <th>arrival_date_year</th>\n",
       "      <th>arrival_date_month</th>\n",
       "      <th>arrival_date_week_number</th>\n",
       "      <th>arrival_date_day_of_month</th>\n",
       "      <th>stays_in_weekend_nights</th>\n",
       "      <th>stays_in_week_nights</th>\n",
       "      <th>adults</th>\n",
       "      <th>...</th>\n",
       "      <th>deposit_type</th>\n",
       "      <th>agent</th>\n",
       "      <th>company</th>\n",
       "      <th>days_in_waiting_list</th>\n",
       "      <th>customer_type</th>\n",
       "      <th>adr</th>\n",
       "      <th>required_car_parking_spaces</th>\n",
       "      <th>total_of_special_requests</th>\n",
       "      <th>reservation_status</th>\n",
       "      <th>reservation_status_date</th>\n",
       "    </tr>\n",
       "  </thead>\n",
       "  <tbody>\n",
       "    <tr>\n",
       "      <th>0</th>\n",
       "      <td>Resort Hotel</td>\n",
       "      <td>0</td>\n",
       "      <td>342</td>\n",
       "      <td>2015</td>\n",
       "      <td>July</td>\n",
       "      <td>27</td>\n",
       "      <td>1</td>\n",
       "      <td>0</td>\n",
       "      <td>0</td>\n",
       "      <td>2</td>\n",
       "      <td>...</td>\n",
       "      <td>No Deposit</td>\n",
       "      <td>NaN</td>\n",
       "      <td>NaN</td>\n",
       "      <td>0</td>\n",
       "      <td>Transient</td>\n",
       "      <td>0.0</td>\n",
       "      <td>0</td>\n",
       "      <td>0</td>\n",
       "      <td>Check-Out</td>\n",
       "      <td>01-07-15</td>\n",
       "    </tr>\n",
       "    <tr>\n",
       "      <th>1</th>\n",
       "      <td>Resort Hotel</td>\n",
       "      <td>0</td>\n",
       "      <td>737</td>\n",
       "      <td>2015</td>\n",
       "      <td>July</td>\n",
       "      <td>27</td>\n",
       "      <td>1</td>\n",
       "      <td>0</td>\n",
       "      <td>0</td>\n",
       "      <td>2</td>\n",
       "      <td>...</td>\n",
       "      <td>No Deposit</td>\n",
       "      <td>NaN</td>\n",
       "      <td>NaN</td>\n",
       "      <td>0</td>\n",
       "      <td>Transient</td>\n",
       "      <td>0.0</td>\n",
       "      <td>0</td>\n",
       "      <td>0</td>\n",
       "      <td>Check-Out</td>\n",
       "      <td>01-07-15</td>\n",
       "    </tr>\n",
       "    <tr>\n",
       "      <th>2</th>\n",
       "      <td>Resort Hotel</td>\n",
       "      <td>0</td>\n",
       "      <td>7</td>\n",
       "      <td>2015</td>\n",
       "      <td>July</td>\n",
       "      <td>27</td>\n",
       "      <td>1</td>\n",
       "      <td>0</td>\n",
       "      <td>1</td>\n",
       "      <td>1</td>\n",
       "      <td>...</td>\n",
       "      <td>No Deposit</td>\n",
       "      <td>NaN</td>\n",
       "      <td>NaN</td>\n",
       "      <td>0</td>\n",
       "      <td>Transient</td>\n",
       "      <td>75.0</td>\n",
       "      <td>0</td>\n",
       "      <td>0</td>\n",
       "      <td>Check-Out</td>\n",
       "      <td>02-07-15</td>\n",
       "    </tr>\n",
       "    <tr>\n",
       "      <th>3</th>\n",
       "      <td>Resort Hotel</td>\n",
       "      <td>0</td>\n",
       "      <td>13</td>\n",
       "      <td>2015</td>\n",
       "      <td>July</td>\n",
       "      <td>27</td>\n",
       "      <td>1</td>\n",
       "      <td>0</td>\n",
       "      <td>1</td>\n",
       "      <td>1</td>\n",
       "      <td>...</td>\n",
       "      <td>No Deposit</td>\n",
       "      <td>304.0</td>\n",
       "      <td>NaN</td>\n",
       "      <td>0</td>\n",
       "      <td>Transient</td>\n",
       "      <td>75.0</td>\n",
       "      <td>0</td>\n",
       "      <td>0</td>\n",
       "      <td>Check-Out</td>\n",
       "      <td>02-07-15</td>\n",
       "    </tr>\n",
       "    <tr>\n",
       "      <th>4</th>\n",
       "      <td>Resort Hotel</td>\n",
       "      <td>0</td>\n",
       "      <td>14</td>\n",
       "      <td>2015</td>\n",
       "      <td>July</td>\n",
       "      <td>27</td>\n",
       "      <td>1</td>\n",
       "      <td>0</td>\n",
       "      <td>2</td>\n",
       "      <td>2</td>\n",
       "      <td>...</td>\n",
       "      <td>No Deposit</td>\n",
       "      <td>240.0</td>\n",
       "      <td>NaN</td>\n",
       "      <td>0</td>\n",
       "      <td>Transient</td>\n",
       "      <td>98.0</td>\n",
       "      <td>0</td>\n",
       "      <td>1</td>\n",
       "      <td>Check-Out</td>\n",
       "      <td>03-07-15</td>\n",
       "    </tr>\n",
       "  </tbody>\n",
       "</table>\n",
       "<p>5 rows × 32 columns</p>\n",
       "</div>"
      ],
      "text/plain": [
       "          hotel  is_canceled  lead_time  arrival_date_year arrival_date_month  \\\n",
       "0  Resort Hotel            0        342               2015               July   \n",
       "1  Resort Hotel            0        737               2015               July   \n",
       "2  Resort Hotel            0          7               2015               July   \n",
       "3  Resort Hotel            0         13               2015               July   \n",
       "4  Resort Hotel            0         14               2015               July   \n",
       "\n",
       "   arrival_date_week_number  arrival_date_day_of_month  \\\n",
       "0                        27                          1   \n",
       "1                        27                          1   \n",
       "2                        27                          1   \n",
       "3                        27                          1   \n",
       "4                        27                          1   \n",
       "\n",
       "   stays_in_weekend_nights  stays_in_week_nights  adults  ...  deposit_type  \\\n",
       "0                        0                     0       2  ...    No Deposit   \n",
       "1                        0                     0       2  ...    No Deposit   \n",
       "2                        0                     1       1  ...    No Deposit   \n",
       "3                        0                     1       1  ...    No Deposit   \n",
       "4                        0                     2       2  ...    No Deposit   \n",
       "\n",
       "   agent company days_in_waiting_list customer_type   adr  \\\n",
       "0    NaN     NaN                    0     Transient   0.0   \n",
       "1    NaN     NaN                    0     Transient   0.0   \n",
       "2    NaN     NaN                    0     Transient  75.0   \n",
       "3  304.0     NaN                    0     Transient  75.0   \n",
       "4  240.0     NaN                    0     Transient  98.0   \n",
       "\n",
       "   required_car_parking_spaces  total_of_special_requests  reservation_status  \\\n",
       "0                            0                          0           Check-Out   \n",
       "1                            0                          0           Check-Out   \n",
       "2                            0                          0           Check-Out   \n",
       "3                            0                          0           Check-Out   \n",
       "4                            0                          1           Check-Out   \n",
       "\n",
       "  reservation_status_date  \n",
       "0                01-07-15  \n",
       "1                01-07-15  \n",
       "2                02-07-15  \n",
       "3                02-07-15  \n",
       "4                03-07-15  \n",
       "\n",
       "[5 rows x 32 columns]"
      ]
     },
     "execution_count": 2,
     "metadata": {},
     "output_type": "execute_result"
    }
   ],
   "source": [
    "hotel_bookings = pd.read_csv('datasets/hotel_bookings.csv')\n",
    "hotel_bookings.head(5)"
   ]
  },
  {
   "cell_type": "markdown",
   "id": "4f9e8dce",
   "metadata": {},
   "source": [
    "### Size"
   ]
  },
  {
   "cell_type": "code",
   "execution_count": 4,
   "id": "096897c9",
   "metadata": {
    "collapsed": true
   },
   "outputs": [
    {
     "name": "stdout",
     "output_type": "stream",
     "text": [
      "RangeIndex(start=0, stop=119390, step=1)\n",
      "32\n"
     ]
    }
   ],
   "source": [
    "# complete number of rows\n",
    "print(hotel_bookings.index)\n",
    "# RangeIndex(start=0, stop=119390, step=1)\n",
    "\n",
    "# complete number of columns\n",
    "print(len(hotel_bookings.columns))\n",
    "# 32"
   ]
  },
  {
   "cell_type": "markdown",
   "id": "d3625033",
   "metadata": {},
   "source": [
    "### Missing Data"
   ]
  },
  {
   "cell_type": "code",
   "execution_count": 5,
   "id": "f0b17213",
   "metadata": {
    "collapsed": true
   },
   "outputs": [
    {
     "data": {
      "text/html": [
       "<div>\n",
       "<style scoped>\n",
       "    .dataframe tbody tr th:only-of-type {\n",
       "        vertical-align: middle;\n",
       "    }\n",
       "\n",
       "    .dataframe tbody tr th {\n",
       "        vertical-align: top;\n",
       "    }\n",
       "\n",
       "    .dataframe thead th {\n",
       "        text-align: right;\n",
       "    }\n",
       "</style>\n",
       "<table border=\"1\" class=\"dataframe\">\n",
       "  <thead>\n",
       "    <tr style=\"text-align: right;\">\n",
       "      <th></th>\n",
       "      <th>hotel</th>\n",
       "      <th>is_canceled</th>\n",
       "      <th>lead_time</th>\n",
       "      <th>arrival_date_year</th>\n",
       "      <th>arrival_date_month</th>\n",
       "      <th>arrival_date_week_number</th>\n",
       "      <th>arrival_date_day_of_month</th>\n",
       "      <th>stays_in_weekend_nights</th>\n",
       "      <th>stays_in_week_nights</th>\n",
       "      <th>adults</th>\n",
       "      <th>...</th>\n",
       "      <th>deposit_type</th>\n",
       "      <th>agent</th>\n",
       "      <th>company</th>\n",
       "      <th>days_in_waiting_list</th>\n",
       "      <th>customer_type</th>\n",
       "      <th>adr</th>\n",
       "      <th>required_car_parking_spaces</th>\n",
       "      <th>total_of_special_requests</th>\n",
       "      <th>reservation_status</th>\n",
       "      <th>reservation_status_date</th>\n",
       "    </tr>\n",
       "  </thead>\n",
       "  <tbody>\n",
       "    <tr>\n",
       "      <th>0</th>\n",
       "      <td>Resort Hotel</td>\n",
       "      <td>0</td>\n",
       "      <td>342</td>\n",
       "      <td>2015</td>\n",
       "      <td>July</td>\n",
       "      <td>27</td>\n",
       "      <td>1</td>\n",
       "      <td>0</td>\n",
       "      <td>0</td>\n",
       "      <td>2</td>\n",
       "      <td>...</td>\n",
       "      <td>No Deposit</td>\n",
       "      <td>NaN</td>\n",
       "      <td>NaN</td>\n",
       "      <td>0</td>\n",
       "      <td>Transient</td>\n",
       "      <td>0.00</td>\n",
       "      <td>0</td>\n",
       "      <td>0</td>\n",
       "      <td>Check-Out</td>\n",
       "      <td>01-07-15</td>\n",
       "    </tr>\n",
       "    <tr>\n",
       "      <th>1</th>\n",
       "      <td>Resort Hotel</td>\n",
       "      <td>0</td>\n",
       "      <td>737</td>\n",
       "      <td>2015</td>\n",
       "      <td>July</td>\n",
       "      <td>27</td>\n",
       "      <td>1</td>\n",
       "      <td>0</td>\n",
       "      <td>0</td>\n",
       "      <td>2</td>\n",
       "      <td>...</td>\n",
       "      <td>No Deposit</td>\n",
       "      <td>NaN</td>\n",
       "      <td>NaN</td>\n",
       "      <td>0</td>\n",
       "      <td>Transient</td>\n",
       "      <td>0.00</td>\n",
       "      <td>0</td>\n",
       "      <td>0</td>\n",
       "      <td>Check-Out</td>\n",
       "      <td>01-07-15</td>\n",
       "    </tr>\n",
       "    <tr>\n",
       "      <th>2</th>\n",
       "      <td>Resort Hotel</td>\n",
       "      <td>0</td>\n",
       "      <td>7</td>\n",
       "      <td>2015</td>\n",
       "      <td>July</td>\n",
       "      <td>27</td>\n",
       "      <td>1</td>\n",
       "      <td>0</td>\n",
       "      <td>1</td>\n",
       "      <td>1</td>\n",
       "      <td>...</td>\n",
       "      <td>No Deposit</td>\n",
       "      <td>NaN</td>\n",
       "      <td>NaN</td>\n",
       "      <td>0</td>\n",
       "      <td>Transient</td>\n",
       "      <td>75.00</td>\n",
       "      <td>0</td>\n",
       "      <td>0</td>\n",
       "      <td>Check-Out</td>\n",
       "      <td>02-07-15</td>\n",
       "    </tr>\n",
       "    <tr>\n",
       "      <th>3</th>\n",
       "      <td>Resort Hotel</td>\n",
       "      <td>0</td>\n",
       "      <td>13</td>\n",
       "      <td>2015</td>\n",
       "      <td>July</td>\n",
       "      <td>27</td>\n",
       "      <td>1</td>\n",
       "      <td>0</td>\n",
       "      <td>1</td>\n",
       "      <td>1</td>\n",
       "      <td>...</td>\n",
       "      <td>No Deposit</td>\n",
       "      <td>304.0</td>\n",
       "      <td>NaN</td>\n",
       "      <td>0</td>\n",
       "      <td>Transient</td>\n",
       "      <td>75.00</td>\n",
       "      <td>0</td>\n",
       "      <td>0</td>\n",
       "      <td>Check-Out</td>\n",
       "      <td>02-07-15</td>\n",
       "    </tr>\n",
       "    <tr>\n",
       "      <th>4</th>\n",
       "      <td>Resort Hotel</td>\n",
       "      <td>0</td>\n",
       "      <td>14</td>\n",
       "      <td>2015</td>\n",
       "      <td>July</td>\n",
       "      <td>27</td>\n",
       "      <td>1</td>\n",
       "      <td>0</td>\n",
       "      <td>2</td>\n",
       "      <td>2</td>\n",
       "      <td>...</td>\n",
       "      <td>No Deposit</td>\n",
       "      <td>240.0</td>\n",
       "      <td>NaN</td>\n",
       "      <td>0</td>\n",
       "      <td>Transient</td>\n",
       "      <td>98.00</td>\n",
       "      <td>0</td>\n",
       "      <td>1</td>\n",
       "      <td>Check-Out</td>\n",
       "      <td>03-07-15</td>\n",
       "    </tr>\n",
       "    <tr>\n",
       "      <th>...</th>\n",
       "      <td>...</td>\n",
       "      <td>...</td>\n",
       "      <td>...</td>\n",
       "      <td>...</td>\n",
       "      <td>...</td>\n",
       "      <td>...</td>\n",
       "      <td>...</td>\n",
       "      <td>...</td>\n",
       "      <td>...</td>\n",
       "      <td>...</td>\n",
       "      <td>...</td>\n",
       "      <td>...</td>\n",
       "      <td>...</td>\n",
       "      <td>...</td>\n",
       "      <td>...</td>\n",
       "      <td>...</td>\n",
       "      <td>...</td>\n",
       "      <td>...</td>\n",
       "      <td>...</td>\n",
       "      <td>...</td>\n",
       "      <td>...</td>\n",
       "    </tr>\n",
       "    <tr>\n",
       "      <th>119385</th>\n",
       "      <td>City Hotel</td>\n",
       "      <td>0</td>\n",
       "      <td>23</td>\n",
       "      <td>2017</td>\n",
       "      <td>August</td>\n",
       "      <td>35</td>\n",
       "      <td>30</td>\n",
       "      <td>2</td>\n",
       "      <td>5</td>\n",
       "      <td>2</td>\n",
       "      <td>...</td>\n",
       "      <td>No Deposit</td>\n",
       "      <td>394.0</td>\n",
       "      <td>NaN</td>\n",
       "      <td>0</td>\n",
       "      <td>Transient</td>\n",
       "      <td>96.14</td>\n",
       "      <td>0</td>\n",
       "      <td>0</td>\n",
       "      <td>Check-Out</td>\n",
       "      <td>06-09-17</td>\n",
       "    </tr>\n",
       "    <tr>\n",
       "      <th>119386</th>\n",
       "      <td>City Hotel</td>\n",
       "      <td>0</td>\n",
       "      <td>102</td>\n",
       "      <td>2017</td>\n",
       "      <td>August</td>\n",
       "      <td>35</td>\n",
       "      <td>31</td>\n",
       "      <td>2</td>\n",
       "      <td>5</td>\n",
       "      <td>3</td>\n",
       "      <td>...</td>\n",
       "      <td>No Deposit</td>\n",
       "      <td>9.0</td>\n",
       "      <td>NaN</td>\n",
       "      <td>0</td>\n",
       "      <td>Transient</td>\n",
       "      <td>225.43</td>\n",
       "      <td>0</td>\n",
       "      <td>2</td>\n",
       "      <td>Check-Out</td>\n",
       "      <td>07-09-17</td>\n",
       "    </tr>\n",
       "    <tr>\n",
       "      <th>119387</th>\n",
       "      <td>City Hotel</td>\n",
       "      <td>0</td>\n",
       "      <td>34</td>\n",
       "      <td>2017</td>\n",
       "      <td>August</td>\n",
       "      <td>35</td>\n",
       "      <td>31</td>\n",
       "      <td>2</td>\n",
       "      <td>5</td>\n",
       "      <td>2</td>\n",
       "      <td>...</td>\n",
       "      <td>No Deposit</td>\n",
       "      <td>9.0</td>\n",
       "      <td>NaN</td>\n",
       "      <td>0</td>\n",
       "      <td>Transient</td>\n",
       "      <td>157.71</td>\n",
       "      <td>0</td>\n",
       "      <td>4</td>\n",
       "      <td>Check-Out</td>\n",
       "      <td>07-09-17</td>\n",
       "    </tr>\n",
       "    <tr>\n",
       "      <th>119388</th>\n",
       "      <td>City Hotel</td>\n",
       "      <td>0</td>\n",
       "      <td>109</td>\n",
       "      <td>2017</td>\n",
       "      <td>August</td>\n",
       "      <td>35</td>\n",
       "      <td>31</td>\n",
       "      <td>2</td>\n",
       "      <td>5</td>\n",
       "      <td>2</td>\n",
       "      <td>...</td>\n",
       "      <td>No Deposit</td>\n",
       "      <td>89.0</td>\n",
       "      <td>NaN</td>\n",
       "      <td>0</td>\n",
       "      <td>Transient</td>\n",
       "      <td>104.40</td>\n",
       "      <td>0</td>\n",
       "      <td>0</td>\n",
       "      <td>Check-Out</td>\n",
       "      <td>07-09-17</td>\n",
       "    </tr>\n",
       "    <tr>\n",
       "      <th>119389</th>\n",
       "      <td>City Hotel</td>\n",
       "      <td>0</td>\n",
       "      <td>205</td>\n",
       "      <td>2017</td>\n",
       "      <td>August</td>\n",
       "      <td>35</td>\n",
       "      <td>29</td>\n",
       "      <td>2</td>\n",
       "      <td>7</td>\n",
       "      <td>2</td>\n",
       "      <td>...</td>\n",
       "      <td>No Deposit</td>\n",
       "      <td>9.0</td>\n",
       "      <td>NaN</td>\n",
       "      <td>0</td>\n",
       "      <td>Transient</td>\n",
       "      <td>151.20</td>\n",
       "      <td>0</td>\n",
       "      <td>2</td>\n",
       "      <td>Check-Out</td>\n",
       "      <td>07-09-17</td>\n",
       "    </tr>\n",
       "  </tbody>\n",
       "</table>\n",
       "<p>119173 rows × 32 columns</p>\n",
       "</div>"
      ],
      "text/plain": [
       "               hotel  is_canceled  lead_time  arrival_date_year  \\\n",
       "0       Resort Hotel            0        342               2015   \n",
       "1       Resort Hotel            0        737               2015   \n",
       "2       Resort Hotel            0          7               2015   \n",
       "3       Resort Hotel            0         13               2015   \n",
       "4       Resort Hotel            0         14               2015   \n",
       "...              ...          ...        ...                ...   \n",
       "119385    City Hotel            0         23               2017   \n",
       "119386    City Hotel            0        102               2017   \n",
       "119387    City Hotel            0         34               2017   \n",
       "119388    City Hotel            0        109               2017   \n",
       "119389    City Hotel            0        205               2017   \n",
       "\n",
       "       arrival_date_month  arrival_date_week_number  \\\n",
       "0                    July                        27   \n",
       "1                    July                        27   \n",
       "2                    July                        27   \n",
       "3                    July                        27   \n",
       "4                    July                        27   \n",
       "...                   ...                       ...   \n",
       "119385             August                        35   \n",
       "119386             August                        35   \n",
       "119387             August                        35   \n",
       "119388             August                        35   \n",
       "119389             August                        35   \n",
       "\n",
       "        arrival_date_day_of_month  stays_in_weekend_nights  \\\n",
       "0                               1                        0   \n",
       "1                               1                        0   \n",
       "2                               1                        0   \n",
       "3                               1                        0   \n",
       "4                               1                        0   \n",
       "...                           ...                      ...   \n",
       "119385                         30                        2   \n",
       "119386                         31                        2   \n",
       "119387                         31                        2   \n",
       "119388                         31                        2   \n",
       "119389                         29                        2   \n",
       "\n",
       "        stays_in_week_nights  adults  ...  deposit_type  agent company  \\\n",
       "0                          0       2  ...    No Deposit    NaN     NaN   \n",
       "1                          0       2  ...    No Deposit    NaN     NaN   \n",
       "2                          1       1  ...    No Deposit    NaN     NaN   \n",
       "3                          1       1  ...    No Deposit  304.0     NaN   \n",
       "4                          2       2  ...    No Deposit  240.0     NaN   \n",
       "...                      ...     ...  ...           ...    ...     ...   \n",
       "119385                     5       2  ...    No Deposit  394.0     NaN   \n",
       "119386                     5       3  ...    No Deposit    9.0     NaN   \n",
       "119387                     5       2  ...    No Deposit    9.0     NaN   \n",
       "119388                     5       2  ...    No Deposit   89.0     NaN   \n",
       "119389                     7       2  ...    No Deposit    9.0     NaN   \n",
       "\n",
       "       days_in_waiting_list customer_type     adr  \\\n",
       "0                         0     Transient    0.00   \n",
       "1                         0     Transient    0.00   \n",
       "2                         0     Transient   75.00   \n",
       "3                         0     Transient   75.00   \n",
       "4                         0     Transient   98.00   \n",
       "...                     ...           ...     ...   \n",
       "119385                    0     Transient   96.14   \n",
       "119386                    0     Transient  225.43   \n",
       "119387                    0     Transient  157.71   \n",
       "119388                    0     Transient  104.40   \n",
       "119389                    0     Transient  151.20   \n",
       "\n",
       "        required_car_parking_spaces  total_of_special_requests  \\\n",
       "0                                 0                          0   \n",
       "1                                 0                          0   \n",
       "2                                 0                          0   \n",
       "3                                 0                          0   \n",
       "4                                 0                          1   \n",
       "...                             ...                        ...   \n",
       "119385                            0                          0   \n",
       "119386                            0                          2   \n",
       "119387                            0                          4   \n",
       "119388                            0                          0   \n",
       "119389                            0                          2   \n",
       "\n",
       "        reservation_status reservation_status_date  \n",
       "0                Check-Out                01-07-15  \n",
       "1                Check-Out                01-07-15  \n",
       "2                Check-Out                02-07-15  \n",
       "3                Check-Out                02-07-15  \n",
       "4                Check-Out                03-07-15  \n",
       "...                    ...                     ...  \n",
       "119385           Check-Out                06-09-17  \n",
       "119386           Check-Out                07-09-17  \n",
       "119387           Check-Out                07-09-17  \n",
       "119388           Check-Out                07-09-17  \n",
       "119389           Check-Out                07-09-17  \n",
       "\n",
       "[119173 rows x 32 columns]"
      ]
     },
     "execution_count": 5,
     "metadata": {},
     "output_type": "execute_result"
    }
   ],
   "source": [
    "# only show rows that have missing values\n",
    "hotel_bookings_nan = hotel_bookings[hotel_bookings.isna().any(axis=1)]\n",
    "hotel_bookings_nan\n",
    "# 119173 rows × 32 columns\n",
    "# only 119390 - 119173 =  217 rows don't have missing entries"
   ]
  },
  {
   "cell_type": "markdown",
   "id": "10a3a8e5",
   "metadata": {},
   "source": [
    "| | hotel | is_canceled | lead_time | arrival_date_year | arrival_date_month | arrival_date_week_number | arrival_date_day_of_month | stays_in_weekend_nights | stays_in_week_nights | adults | ... | deposit_type | agent | company | days_in_waiting_list | customer_type | adr | required_car_parking_spaces | total_of_special_requests | reservation_status | reservation_status_date |\n",
    "| -- | -- | -- | -- | -- | -- | -- | -- | -- | -- | -- | -- | -- | -- | -- | -- | -- | -- | -- | -- | -- | -- |\n",
    "| 0 | Resort Hotel | 0 | 342 | 2015 | July | 27 | 1 | 0 | 0 | 2 | ... | No Deposit | NaN | NaN | 0 | Transient | 0.00 | 0 | 0 | Check-Out | 01-07-15 |\n",
    "| 1 | Resort Hotel | 0 | 737 | 2015 | July | 27 | 1 | 0 | 0 | 2 | ... | No Deposit | NaN | NaN | 0 | Transient | 0.00 | 0 | 0 | Check-Out | 01-07-15 |\n",
    "| 2 | Resort Hotel | 0 | 7 | 2015 | July | 27 | 1 | 0 | 1 | 1 | ... | No Deposit | NaN | NaN | 0 | Transient | 75.00 | 0 | 0 | Check-Out | 02-07-15 |\n",
    "| 3 | Resort Hotel | 0 | 13 | 2015 | July | 27 | 1 | 0 | 1 | 1 | ... | No Deposit | 304.0 | NaN | 0 | Transient | 75.00 | 0 | 0 | Check-Out | 02-07-15 |\n",
    "| 4 | Resort Hotel | 0 | 14 | 2015 | July | 27 | 1 | 0 | 2 | 2 | ... | No Deposit | 240.0 | NaN | 0 | Transient | 98.00 | 0 | 1 | Check-Out | 03-07-15 |\n",
    "| ... |\n",
    "| 119385 | City Hotel | 0 | 23 | 2017 | August | 35 | 30 | 2 | 5 | 2 | ... | No Deposit | 394.0 | NaN | 0 | Transient | 96.14 | 0 | 0 | Check-Out | 06-09-17 |\n",
    "| 119386 | City Hotel | 0 | 102 | 2017 | August | 35 | 31 | 2 | 5 | 3 | ... | No Deposit | 9.0 | NaN | 0 | Transient | 225.43 | 0 | 2 | Check-Out | 07-09-17 |\n",
    "| 119387 | City Hotel | 0 | 34 | 2017 | August | 35 | 31 | 2 | 5 | 2 | ... | No Deposit | 9.0 | NaN | 0 | Transient | 157.71 | 0 | 4 | Check-Out | 07-09-17 |\n",
    "| 119388 | City Hotel | 0 | 109 | 2017 | August | 35 | 31 | 2 | 5 | 2 | ... | No Deposit | 89.0 | NaN | 0 | Transient | 104.40 | 0 | 0 | Check-Out | 07-09-17 |\n",
    "| 119389 | City Hotel | 0 | 205 | 2017 | August | 35 | 29 | 2 | 7 | 2 | ... | No Deposit | 9.0 | NaN | 0 | Transient | 151.20 | 0 | 2 | Check-Out | 07-09-17 |"
   ]
  },
  {
   "cell_type": "code",
   "execution_count": 6,
   "id": "2d113493",
   "metadata": {
    "collapsed": true
   },
   "outputs": [
    {
     "data": {
      "text/plain": [
       "hotel                                  0\n",
       "is_canceled                            0\n",
       "lead_time                              0\n",
       "arrival_date_year                      0\n",
       "arrival_date_month                     0\n",
       "arrival_date_week_number               0\n",
       "arrival_date_day_of_month              0\n",
       "stays_in_weekend_nights                0\n",
       "stays_in_week_nights                   0\n",
       "adults                                 0\n",
       "children                               4\n",
       "babies                                 0\n",
       "meal                                   0\n",
       "country                              488\n",
       "market_segment                         0\n",
       "distribution_channel                   0\n",
       "is_repeated_guest                      0\n",
       "previous_cancellations                 0\n",
       "previous_bookings_not_canceled         0\n",
       "reserved_room_type                     0\n",
       "assigned_room_type                     0\n",
       "booking_changes                        0\n",
       "deposit_type                           0\n",
       "agent                              16340\n",
       "company                           112593\n",
       "days_in_waiting_list                   0\n",
       "customer_type                          0\n",
       "adr                                    0\n",
       "required_car_parking_spaces            0\n",
       "total_of_special_requests              0\n",
       "reservation_status                     0\n",
       "reservation_status_date                0\n",
       "dtype: int64"
      ]
     },
     "execution_count": 6,
     "metadata": {},
     "output_type": "execute_result"
    }
   ],
   "source": [
    "# which columns have the most missing entries\n",
    "hotel_bookings.isna().sum()\n",
    "\n",
    "# the columns company, agent and country have the most missing data:"
   ]
  },
  {
   "cell_type": "markdown",
   "id": "0d155809",
   "metadata": {},
   "source": [
    "|    |    |\n",
    "| -- | -- |\n",
    "| hotel | 0 |\n",
    "| is_canceled | 0 |\n",
    "| lead_time | 0 |\n",
    "| arrival_date_year | 0 |\n",
    "| arrival_date_month | 0 |\n",
    "| arrival_date_week_number | 0 |\n",
    "| arrival_date_day_of_month | 0 |\n",
    "| stays_in_weekend_nights | 0 |\n",
    "| stays_in_week_nights | 0 |\n",
    "| adults | 0 |\n",
    "| children | 4 |\n",
    "| babies | 0 |\n",
    "| meal | 0 |\n",
    "| country | 488 |\n",
    "| market_segment | 0 |\n",
    "| distribution_channel | 0 |\n",
    "| is_repeated_guest | 0 |\n",
    "| previous_cancellations | 0 |\n",
    "| previous_bookings_not_canceled | 0 |\n",
    "| reserved_room_type | 0 |\n",
    "| assigned_room_type | 0 |\n",
    "| booking_changes | 0 |\n",
    "| deposit_type | 0 |\n",
    "| agent | 16340 |\n",
    "| company | 112593 |\n",
    "| days_in_waiting_list | 0 |\n",
    "| customer_type | 0 |\n",
    "| adr | 0 |\n",
    "| required_car_parking_spaces | 0 |\n",
    "| total_of_special_requests | 0 |\n",
    "| reservation_status | 0 |\n",
    "| reservation_status_date | 0 |\n",
    "_dtype: int64_"
   ]
  },
  {
   "cell_type": "code",
   "execution_count": 12,
   "id": "affeca3b",
   "metadata": {},
   "outputs": [
    {
     "data": {
      "text/html": [
       "<div>\n",
       "<style scoped>\n",
       "    .dataframe tbody tr th:only-of-type {\n",
       "        vertical-align: middle;\n",
       "    }\n",
       "\n",
       "    .dataframe tbody tr th {\n",
       "        vertical-align: top;\n",
       "    }\n",
       "\n",
       "    .dataframe thead th {\n",
       "        text-align: right;\n",
       "    }\n",
       "</style>\n",
       "<table border=\"1\" class=\"dataframe\">\n",
       "  <thead>\n",
       "    <tr style=\"text-align: right;\">\n",
       "      <th></th>\n",
       "      <th>hotel</th>\n",
       "      <th>is_canceled</th>\n",
       "      <th>lead_time</th>\n",
       "      <th>arrival_date_year</th>\n",
       "      <th>arrival_date_month</th>\n",
       "      <th>arrival_date_week_number</th>\n",
       "      <th>arrival_date_day_of_month</th>\n",
       "      <th>stays_in_weekend_nights</th>\n",
       "      <th>stays_in_week_nights</th>\n",
       "      <th>adults</th>\n",
       "      <th>...</th>\n",
       "      <th>assigned_room_type</th>\n",
       "      <th>booking_changes</th>\n",
       "      <th>deposit_type</th>\n",
       "      <th>days_in_waiting_list</th>\n",
       "      <th>customer_type</th>\n",
       "      <th>adr</th>\n",
       "      <th>required_car_parking_spaces</th>\n",
       "      <th>total_of_special_requests</th>\n",
       "      <th>reservation_status</th>\n",
       "      <th>reservation_status_date</th>\n",
       "    </tr>\n",
       "  </thead>\n",
       "  <tbody>\n",
       "    <tr>\n",
       "      <th>0</th>\n",
       "      <td>Resort Hotel</td>\n",
       "      <td>0</td>\n",
       "      <td>342</td>\n",
       "      <td>2015</td>\n",
       "      <td>July</td>\n",
       "      <td>27</td>\n",
       "      <td>1</td>\n",
       "      <td>0</td>\n",
       "      <td>0</td>\n",
       "      <td>2</td>\n",
       "      <td>...</td>\n",
       "      <td>C</td>\n",
       "      <td>3</td>\n",
       "      <td>No Deposit</td>\n",
       "      <td>0</td>\n",
       "      <td>Transient</td>\n",
       "      <td>0.0</td>\n",
       "      <td>0</td>\n",
       "      <td>0</td>\n",
       "      <td>Check-Out</td>\n",
       "      <td>01-07-15</td>\n",
       "    </tr>\n",
       "    <tr>\n",
       "      <th>1</th>\n",
       "      <td>Resort Hotel</td>\n",
       "      <td>0</td>\n",
       "      <td>737</td>\n",
       "      <td>2015</td>\n",
       "      <td>July</td>\n",
       "      <td>27</td>\n",
       "      <td>1</td>\n",
       "      <td>0</td>\n",
       "      <td>0</td>\n",
       "      <td>2</td>\n",
       "      <td>...</td>\n",
       "      <td>C</td>\n",
       "      <td>4</td>\n",
       "      <td>No Deposit</td>\n",
       "      <td>0</td>\n",
       "      <td>Transient</td>\n",
       "      <td>0.0</td>\n",
       "      <td>0</td>\n",
       "      <td>0</td>\n",
       "      <td>Check-Out</td>\n",
       "      <td>01-07-15</td>\n",
       "    </tr>\n",
       "  </tbody>\n",
       "</table>\n",
       "<p>2 rows × 30 columns</p>\n",
       "</div>"
      ],
      "text/plain": [
       "          hotel  is_canceled  lead_time  arrival_date_year arrival_date_month  \\\n",
       "0  Resort Hotel            0        342               2015               July   \n",
       "1  Resort Hotel            0        737               2015               July   \n",
       "\n",
       "   arrival_date_week_number  arrival_date_day_of_month  \\\n",
       "0                        27                          1   \n",
       "1                        27                          1   \n",
       "\n",
       "   stays_in_weekend_nights  stays_in_week_nights  adults  ...  \\\n",
       "0                        0                     0       2  ...   \n",
       "1                        0                     0       2  ...   \n",
       "\n",
       "   assigned_room_type  booking_changes deposit_type days_in_waiting_list  \\\n",
       "0                   C                3   No Deposit                    0   \n",
       "1                   C                4   No Deposit                    0   \n",
       "\n",
       "  customer_type  adr  required_car_parking_spaces  total_of_special_requests  \\\n",
       "0     Transient  0.0                            0                          0   \n",
       "1     Transient  0.0                            0                          0   \n",
       "\n",
       "   reservation_status reservation_status_date  \n",
       "0           Check-Out                01-07-15  \n",
       "1           Check-Out                01-07-15  \n",
       "\n",
       "[2 rows x 30 columns]"
      ]
     },
     "execution_count": 12,
     "metadata": {},
     "output_type": "execute_result"
    }
   ],
   "source": [
    "# drop columns with missing data\n",
    "hotel_bookings_dropped_nan = hotel_bookings.drop(['company', 'agent'], axis=1)\n",
    "hotel_bookings_dropped_nan.head(2)"
   ]
  },
  {
   "cell_type": "code",
   "execution_count": 13,
   "id": "b1fe48a4",
   "metadata": {},
   "outputs": [
    {
     "data": {
      "text/html": [
       "<div>\n",
       "<style scoped>\n",
       "    .dataframe tbody tr th:only-of-type {\n",
       "        vertical-align: middle;\n",
       "    }\n",
       "\n",
       "    .dataframe tbody tr th {\n",
       "        vertical-align: top;\n",
       "    }\n",
       "\n",
       "    .dataframe thead th {\n",
       "        text-align: right;\n",
       "    }\n",
       "</style>\n",
       "<table border=\"1\" class=\"dataframe\">\n",
       "  <thead>\n",
       "    <tr style=\"text-align: right;\">\n",
       "      <th></th>\n",
       "      <th>hotel</th>\n",
       "      <th>is_canceled</th>\n",
       "      <th>lead_time</th>\n",
       "      <th>arrival_date_year</th>\n",
       "      <th>arrival_date_month</th>\n",
       "      <th>arrival_date_week_number</th>\n",
       "      <th>arrival_date_day_of_month</th>\n",
       "      <th>stays_in_weekend_nights</th>\n",
       "      <th>stays_in_week_nights</th>\n",
       "      <th>adults</th>\n",
       "      <th>...</th>\n",
       "      <th>assigned_room_type</th>\n",
       "      <th>booking_changes</th>\n",
       "      <th>deposit_type</th>\n",
       "      <th>days_in_waiting_list</th>\n",
       "      <th>customer_type</th>\n",
       "      <th>adr</th>\n",
       "      <th>required_car_parking_spaces</th>\n",
       "      <th>total_of_special_requests</th>\n",
       "      <th>reservation_status</th>\n",
       "      <th>reservation_status_date</th>\n",
       "    </tr>\n",
       "  </thead>\n",
       "  <tbody>\n",
       "    <tr>\n",
       "      <th>30</th>\n",
       "      <td>Resort Hotel</td>\n",
       "      <td>0</td>\n",
       "      <td>118</td>\n",
       "      <td>2015</td>\n",
       "      <td>July</td>\n",
       "      <td>27</td>\n",
       "      <td>1</td>\n",
       "      <td>4</td>\n",
       "      <td>10</td>\n",
       "      <td>1</td>\n",
       "      <td>...</td>\n",
       "      <td>A</td>\n",
       "      <td>2</td>\n",
       "      <td>No Deposit</td>\n",
       "      <td>0</td>\n",
       "      <td>Transient</td>\n",
       "      <td>62.0</td>\n",
       "      <td>0</td>\n",
       "      <td>2</td>\n",
       "      <td>Check-Out</td>\n",
       "      <td>15-07-15</td>\n",
       "    </tr>\n",
       "    <tr>\n",
       "      <th>4127</th>\n",
       "      <td>Resort Hotel</td>\n",
       "      <td>1</td>\n",
       "      <td>0</td>\n",
       "      <td>2016</td>\n",
       "      <td>February</td>\n",
       "      <td>8</td>\n",
       "      <td>15</td>\n",
       "      <td>0</td>\n",
       "      <td>0</td>\n",
       "      <td>0</td>\n",
       "      <td>...</td>\n",
       "      <td>P</td>\n",
       "      <td>0</td>\n",
       "      <td>No Deposit</td>\n",
       "      <td>0</td>\n",
       "      <td>Transient</td>\n",
       "      <td>0.0</td>\n",
       "      <td>0</td>\n",
       "      <td>0</td>\n",
       "      <td>Canceled</td>\n",
       "      <td>15-02-16</td>\n",
       "    </tr>\n",
       "    <tr>\n",
       "      <th>7092</th>\n",
       "      <td>Resort Hotel</td>\n",
       "      <td>1</td>\n",
       "      <td>8</td>\n",
       "      <td>2016</td>\n",
       "      <td>July</td>\n",
       "      <td>30</td>\n",
       "      <td>21</td>\n",
       "      <td>0</td>\n",
       "      <td>1</td>\n",
       "      <td>1</td>\n",
       "      <td>...</td>\n",
       "      <td>A</td>\n",
       "      <td>0</td>\n",
       "      <td>No Deposit</td>\n",
       "      <td>0</td>\n",
       "      <td>Transient</td>\n",
       "      <td>73.0</td>\n",
       "      <td>0</td>\n",
       "      <td>2</td>\n",
       "      <td>Canceled</td>\n",
       "      <td>20-07-16</td>\n",
       "    </tr>\n",
       "    <tr>\n",
       "      <th>7860</th>\n",
       "      <td>Resort Hotel</td>\n",
       "      <td>1</td>\n",
       "      <td>39</td>\n",
       "      <td>2016</td>\n",
       "      <td>August</td>\n",
       "      <td>36</td>\n",
       "      <td>30</td>\n",
       "      <td>0</td>\n",
       "      <td>5</td>\n",
       "      <td>2</td>\n",
       "      <td>...</td>\n",
       "      <td>A</td>\n",
       "      <td>0</td>\n",
       "      <td>No Deposit</td>\n",
       "      <td>0</td>\n",
       "      <td>Transient</td>\n",
       "      <td>159.0</td>\n",
       "      <td>0</td>\n",
       "      <td>5</td>\n",
       "      <td>Canceled</td>\n",
       "      <td>22-07-16</td>\n",
       "    </tr>\n",
       "    <tr>\n",
       "      <th>8779</th>\n",
       "      <td>Resort Hotel</td>\n",
       "      <td>1</td>\n",
       "      <td>0</td>\n",
       "      <td>2016</td>\n",
       "      <td>October</td>\n",
       "      <td>42</td>\n",
       "      <td>13</td>\n",
       "      <td>0</td>\n",
       "      <td>1</td>\n",
       "      <td>1</td>\n",
       "      <td>...</td>\n",
       "      <td>A</td>\n",
       "      <td>0</td>\n",
       "      <td>No Deposit</td>\n",
       "      <td>0</td>\n",
       "      <td>Transient</td>\n",
       "      <td>50.0</td>\n",
       "      <td>0</td>\n",
       "      <td>0</td>\n",
       "      <td>Canceled</td>\n",
       "      <td>13-10-16</td>\n",
       "    </tr>\n",
       "    <tr>\n",
       "      <th>...</th>\n",
       "      <td>...</td>\n",
       "      <td>...</td>\n",
       "      <td>...</td>\n",
       "      <td>...</td>\n",
       "      <td>...</td>\n",
       "      <td>...</td>\n",
       "      <td>...</td>\n",
       "      <td>...</td>\n",
       "      <td>...</td>\n",
       "      <td>...</td>\n",
       "      <td>...</td>\n",
       "      <td>...</td>\n",
       "      <td>...</td>\n",
       "      <td>...</td>\n",
       "      <td>...</td>\n",
       "      <td>...</td>\n",
       "      <td>...</td>\n",
       "      <td>...</td>\n",
       "      <td>...</td>\n",
       "      <td>...</td>\n",
       "      <td>...</td>\n",
       "    </tr>\n",
       "    <tr>\n",
       "      <th>65908</th>\n",
       "      <td>City Hotel</td>\n",
       "      <td>1</td>\n",
       "      <td>0</td>\n",
       "      <td>2017</td>\n",
       "      <td>April</td>\n",
       "      <td>15</td>\n",
       "      <td>10</td>\n",
       "      <td>0</td>\n",
       "      <td>0</td>\n",
       "      <td>0</td>\n",
       "      <td>...</td>\n",
       "      <td>P</td>\n",
       "      <td>0</td>\n",
       "      <td>No Deposit</td>\n",
       "      <td>0</td>\n",
       "      <td>Transient</td>\n",
       "      <td>0.0</td>\n",
       "      <td>0</td>\n",
       "      <td>0</td>\n",
       "      <td>Canceled</td>\n",
       "      <td>10-04-17</td>\n",
       "    </tr>\n",
       "    <tr>\n",
       "      <th>65909</th>\n",
       "      <td>City Hotel</td>\n",
       "      <td>1</td>\n",
       "      <td>0</td>\n",
       "      <td>2017</td>\n",
       "      <td>April</td>\n",
       "      <td>15</td>\n",
       "      <td>10</td>\n",
       "      <td>0</td>\n",
       "      <td>0</td>\n",
       "      <td>0</td>\n",
       "      <td>...</td>\n",
       "      <td>P</td>\n",
       "      <td>0</td>\n",
       "      <td>No Deposit</td>\n",
       "      <td>0</td>\n",
       "      <td>Transient</td>\n",
       "      <td>0.0</td>\n",
       "      <td>0</td>\n",
       "      <td>0</td>\n",
       "      <td>Canceled</td>\n",
       "      <td>10-04-17</td>\n",
       "    </tr>\n",
       "    <tr>\n",
       "      <th>65910</th>\n",
       "      <td>City Hotel</td>\n",
       "      <td>1</td>\n",
       "      <td>0</td>\n",
       "      <td>2017</td>\n",
       "      <td>April</td>\n",
       "      <td>15</td>\n",
       "      <td>10</td>\n",
       "      <td>0</td>\n",
       "      <td>0</td>\n",
       "      <td>0</td>\n",
       "      <td>...</td>\n",
       "      <td>P</td>\n",
       "      <td>0</td>\n",
       "      <td>No Deposit</td>\n",
       "      <td>0</td>\n",
       "      <td>Transient</td>\n",
       "      <td>0.0</td>\n",
       "      <td>0</td>\n",
       "      <td>0</td>\n",
       "      <td>Canceled</td>\n",
       "      <td>10-04-17</td>\n",
       "    </tr>\n",
       "    <tr>\n",
       "      <th>80830</th>\n",
       "      <td>City Hotel</td>\n",
       "      <td>0</td>\n",
       "      <td>4</td>\n",
       "      <td>2015</td>\n",
       "      <td>November</td>\n",
       "      <td>48</td>\n",
       "      <td>23</td>\n",
       "      <td>1</td>\n",
       "      <td>2</td>\n",
       "      <td>1</td>\n",
       "      <td>...</td>\n",
       "      <td>A</td>\n",
       "      <td>0</td>\n",
       "      <td>No Deposit</td>\n",
       "      <td>0</td>\n",
       "      <td>Transient-Party</td>\n",
       "      <td>70.0</td>\n",
       "      <td>0</td>\n",
       "      <td>0</td>\n",
       "      <td>Check-Out</td>\n",
       "      <td>26-11-15</td>\n",
       "    </tr>\n",
       "    <tr>\n",
       "      <th>101488</th>\n",
       "      <td>City Hotel</td>\n",
       "      <td>0</td>\n",
       "      <td>1</td>\n",
       "      <td>2016</td>\n",
       "      <td>November</td>\n",
       "      <td>47</td>\n",
       "      <td>13</td>\n",
       "      <td>2</td>\n",
       "      <td>2</td>\n",
       "      <td>2</td>\n",
       "      <td>...</td>\n",
       "      <td>A</td>\n",
       "      <td>0</td>\n",
       "      <td>No Deposit</td>\n",
       "      <td>0</td>\n",
       "      <td>Group</td>\n",
       "      <td>105.0</td>\n",
       "      <td>0</td>\n",
       "      <td>1</td>\n",
       "      <td>Check-Out</td>\n",
       "      <td>17-11-16</td>\n",
       "    </tr>\n",
       "  </tbody>\n",
       "</table>\n",
       "<p>492 rows × 30 columns</p>\n",
       "</div>"
      ],
      "text/plain": [
       "               hotel  is_canceled  lead_time  arrival_date_year  \\\n",
       "30      Resort Hotel            0        118               2015   \n",
       "4127    Resort Hotel            1          0               2016   \n",
       "7092    Resort Hotel            1          8               2016   \n",
       "7860    Resort Hotel            1         39               2016   \n",
       "8779    Resort Hotel            1          0               2016   \n",
       "...              ...          ...        ...                ...   \n",
       "65908     City Hotel            1          0               2017   \n",
       "65909     City Hotel            1          0               2017   \n",
       "65910     City Hotel            1          0               2017   \n",
       "80830     City Hotel            0          4               2015   \n",
       "101488    City Hotel            0          1               2016   \n",
       "\n",
       "       arrival_date_month  arrival_date_week_number  \\\n",
       "30                   July                        27   \n",
       "4127             February                         8   \n",
       "7092                 July                        30   \n",
       "7860               August                        36   \n",
       "8779              October                        42   \n",
       "...                   ...                       ...   \n",
       "65908               April                        15   \n",
       "65909               April                        15   \n",
       "65910               April                        15   \n",
       "80830            November                        48   \n",
       "101488           November                        47   \n",
       "\n",
       "        arrival_date_day_of_month  stays_in_weekend_nights  \\\n",
       "30                              1                        4   \n",
       "4127                           15                        0   \n",
       "7092                           21                        0   \n",
       "7860                           30                        0   \n",
       "8779                           13                        0   \n",
       "...                           ...                      ...   \n",
       "65908                          10                        0   \n",
       "65909                          10                        0   \n",
       "65910                          10                        0   \n",
       "80830                          23                        1   \n",
       "101488                         13                        2   \n",
       "\n",
       "        stays_in_week_nights  adults  ...  assigned_room_type  \\\n",
       "30                        10       1  ...                   A   \n",
       "4127                       0       0  ...                   P   \n",
       "7092                       1       1  ...                   A   \n",
       "7860                       5       2  ...                   A   \n",
       "8779                       1       1  ...                   A   \n",
       "...                      ...     ...  ...                 ...   \n",
       "65908                      0       0  ...                   P   \n",
       "65909                      0       0  ...                   P   \n",
       "65910                      0       0  ...                   P   \n",
       "80830                      2       1  ...                   A   \n",
       "101488                     2       2  ...                   A   \n",
       "\n",
       "        booking_changes deposit_type days_in_waiting_list    customer_type  \\\n",
       "30                    2   No Deposit                    0        Transient   \n",
       "4127                  0   No Deposit                    0        Transient   \n",
       "7092                  0   No Deposit                    0        Transient   \n",
       "7860                  0   No Deposit                    0        Transient   \n",
       "8779                  0   No Deposit                    0        Transient   \n",
       "...                 ...          ...                  ...              ...   \n",
       "65908                 0   No Deposit                    0        Transient   \n",
       "65909                 0   No Deposit                    0        Transient   \n",
       "65910                 0   No Deposit                    0        Transient   \n",
       "80830                 0   No Deposit                    0  Transient-Party   \n",
       "101488                0   No Deposit                    0            Group   \n",
       "\n",
       "          adr  required_car_parking_spaces  total_of_special_requests  \\\n",
       "30       62.0                            0                          2   \n",
       "4127      0.0                            0                          0   \n",
       "7092     73.0                            0                          2   \n",
       "7860    159.0                            0                          5   \n",
       "8779     50.0                            0                          0   \n",
       "...       ...                          ...                        ...   \n",
       "65908     0.0                            0                          0   \n",
       "65909     0.0                            0                          0   \n",
       "65910     0.0                            0                          0   \n",
       "80830    70.0                            0                          0   \n",
       "101488  105.0                            0                          1   \n",
       "\n",
       "        reservation_status reservation_status_date  \n",
       "30               Check-Out                15-07-15  \n",
       "4127              Canceled                15-02-16  \n",
       "7092              Canceled                20-07-16  \n",
       "7860              Canceled                22-07-16  \n",
       "8779              Canceled                13-10-16  \n",
       "...                    ...                     ...  \n",
       "65908             Canceled                10-04-17  \n",
       "65909             Canceled                10-04-17  \n",
       "65910             Canceled                10-04-17  \n",
       "80830            Check-Out                26-11-15  \n",
       "101488           Check-Out                17-11-16  \n",
       "\n",
       "[492 rows x 30 columns]"
      ]
     },
     "execution_count": 13,
     "metadata": {},
     "output_type": "execute_result"
    }
   ],
   "source": [
    "hotel_bookings_dropped_nan[hotel_bookings_dropped_nan.isna().any(axis=1)]\n",
    "# 4 rows × 29 columns\n",
    "# only the 4 rows with missing data in the children column and 488 country column remain"
   ]
  },
  {
   "cell_type": "markdown",
   "id": "9cff148c",
   "metadata": {},
   "source": [
    "### Exploration\n",
    "\n",
    "#### Data Columns"
   ]
  },
  {
   "cell_type": "code",
   "execution_count": 28,
   "id": "932d87f3",
   "metadata": {
    "collapsed": true
   },
   "outputs": [
    {
     "data": {
      "text/plain": [
       "0                              hotel\n",
       "1                        is_canceled\n",
       "2                          lead_time\n",
       "3                  arrival_date_year\n",
       "4                 arrival_date_month\n",
       "5           arrival_date_week_number\n",
       "6          arrival_date_day_of_month\n",
       "7            stays_in_weekend_nights\n",
       "8               stays_in_week_nights\n",
       "9                             adults\n",
       "10                          children\n",
       "11                            babies\n",
       "12                              meal\n",
       "13                           country\n",
       "14                    market_segment\n",
       "15              distribution_channel\n",
       "16                 is_repeated_guest\n",
       "17            previous_cancellations\n",
       "18    previous_bookings_not_canceled\n",
       "19                reserved_room_type\n",
       "20                assigned_room_type\n",
       "21                   booking_changes\n",
       "22                      deposit_type\n",
       "23                             agent\n",
       "24                           company\n",
       "25              days_in_waiting_list\n",
       "26                     customer_type\n",
       "27                               adr\n",
       "28       required_car_parking_spaces\n",
       "29         total_of_special_requests\n",
       "30                reservation_status\n",
       "31           reservation_status_date\n",
       "dtype: object"
      ]
     },
     "execution_count": 28,
     "metadata": {},
     "output_type": "execute_result"
    }
   ],
   "source": [
    "# what columns do we have\n",
    "pd.Series(hotel_bookings.columns)"
   ]
  },
  {
   "cell_type": "markdown",
   "id": "74e78893",
   "metadata": {},
   "source": [
    "|  |  |\n",
    "| -- | -- |\n",
    "| 0 | hotel |\n",
    "| 1 | is_canceled |\n",
    "| 2 | lead_time |\n",
    "| 3 | arrival_date_year |\n",
    "| 4 | arrival_date_month |\n",
    "| 5 | arrival_date_week_number |\n",
    "| 6 | arrival_date_day_of_month |\n",
    "| 7 | stays_in_weekend_nights |\n",
    "| 8 | stays_in_week_nights |\n",
    "| 9 | adults |\n",
    "| 10 | children |\n",
    "| 11 | babies |\n",
    "| 12 | meal |\n",
    "| 13 | country |\n",
    "| 14 | market_segment |\n",
    "| 15 | distribution_channel |\n",
    "| 16 | is_repeated_guest |\n",
    "| 17 | previous_cancellations |\n",
    "| 18 | previous_bookings_not_canceled |\n",
    "| 19 | reserved_room_type |\n",
    "| 20 | assigned_room_type |\n",
    "| 21 | booking_changes |\n",
    "| 22 | deposit_type |\n",
    "| 23 | agent |\n",
    "| 24 | company |\n",
    "| 25 | days_in_waiting_list |\n",
    "| 26 | customer_type |\n",
    "| 27 | adr |\n",
    "| 28 | required_car_parking_spaces |\n",
    "| 29 | total_of_special_requests |\n",
    "| 30 | reservation_status |\n",
    "| 31 | reservation_status_date |\n",
    "_dtype: object_"
   ]
  },
  {
   "cell_type": "markdown",
   "id": "a43d68dd",
   "metadata": {},
   "source": [
    "#### Top Countries"
   ]
  },
  {
   "cell_type": "code",
   "execution_count": 21,
   "id": "bb3d203a",
   "metadata": {
    "collapsed": true
   },
   "outputs": [
    {
     "data": {
      "text/plain": [
       "PRT    48590\n",
       "GBR    12129\n",
       "FRA    10415\n",
       "ESP     8568\n",
       "DEU     7287\n",
       "Name: country, dtype: int64"
      ]
     },
     "execution_count": 21,
     "metadata": {},
     "output_type": "execute_result"
    }
   ],
   "source": [
    "# top5 country codes\n",
    "hotel_bookings_dropped_nan['country'].value_counts().head(5)"
   ]
  },
  {
   "cell_type": "markdown",
   "id": "62921900",
   "metadata": {},
   "source": [
    "|  |  |\n",
    "| -- | -- |\n",
    "| PRT | 48590 |\n",
    "| GBR | 12129 |\n",
    "| FRA | 10415 |\n",
    "| ESP | 8568 |\n",
    "| DEU | 7287 |\n",
    "_Name: country, dtype: int64_"
   ]
  },
  {
   "cell_type": "code",
   "execution_count": 26,
   "id": "1e5110c4",
   "metadata": {
    "collapsed": true
   },
   "outputs": [
    {
     "data": {
      "text/plain": [
       "<AxesSubplot: >"
      ]
     },
     "execution_count": 26,
     "metadata": {},
     "output_type": "execute_result"
    },
    {
     "data": {
      "image/png": "[encoded data removed]",
      "text/plain": [
       "<Figure size 1200x400 with 1 Axes>"
      ]
     },
     "metadata": {},
     "output_type": "display_data"
    }
   ],
   "source": [
    "hotel_bookings_dropped_nan['country'].value_counts().head(15).plot.bar(figsize=(12,4),rot=65)"
   ]
  },
  {
   "cell_type": "markdown",
   "id": "53bf939e",
   "metadata": {},
   "source": [
    "![Hotel Booking Demand Dataset](assets/hotel_booking_demand_01.png)"
   ]
  },
  {
   "cell_type": "markdown",
   "id": "21e5ace1",
   "metadata": {},
   "source": [
    "#### Average Daily Rates"
   ]
  },
  {
   "cell_type": "code",
   "execution_count": 33,
   "id": "83772dc0",
   "metadata": {
    "collapsed": true
   },
   "outputs": [
    {
     "data": {
      "image/png": "[encoded data removed]",
      "text/plain": [
       "<Figure size 1200x800 with 1 Axes>"
      ]
     },
     "metadata": {},
     "output_type": "display_data"
    }
   ],
   "source": [
    "plot = hotel_bookings_dropped_nan.plot.scatter(\n",
    "    figsize=(12,8),\n",
    "    x='adr',\n",
    "    y='hotel')\n",
    "\n",
    "# there are only 2 hotels and all adr's are within 0-500$ with one outlier above 5000$"
   ]
  },
  {
   "cell_type": "markdown",
   "id": "a88905dc",
   "metadata": {},
   "source": [
    "![Hotel Booking Demand Dataset](assets/hotel_booking_demand_02.png)"
   ]
  },
  {
   "cell_type": "code",
   "execution_count": 38,
   "id": "1dda9f48",
   "metadata": {
    "collapsed": true
   },
   "outputs": [
    {
     "data": {
      "text/plain": [
       "hotel                                City Hotel\n",
       "is_canceled                                   1\n",
       "lead_time                                    35\n",
       "arrival_date_year                          2016\n",
       "arrival_date_month                        March\n",
       "arrival_date_week_number                     13\n",
       "arrival_date_day_of_month                    25\n",
       "stays_in_weekend_nights                       0\n",
       "stays_in_week_nights                          1\n",
       "adults                                        2\n",
       "children                                    0.0\n",
       "babies                                        0\n",
       "meal                                         BB\n",
       "country                                     PRT\n",
       "market_segment                    Offline TA/TO\n",
       "distribution_channel                      TA/TO\n",
       "is_repeated_guest                             0\n",
       "previous_cancellations                        0\n",
       "previous_bookings_not_canceled                0\n",
       "reserved_room_type                            A\n",
       "assigned_room_type                            A\n",
       "booking_changes                               1\n",
       "deposit_type                         Non Refund\n",
       "days_in_waiting_list                          0\n",
       "customer_type                         Transient\n",
       "adr                                      5400.0\n",
       "required_car_parking_spaces                   0\n",
       "total_of_special_requests                     0\n",
       "reservation_status                     Canceled\n",
       "reservation_status_date                19-02-16\n",
       "Name: 48515, dtype: object"
      ]
     },
     "execution_count": 38,
     "metadata": {},
     "output_type": "execute_result"
    }
   ],
   "source": [
    "# find outlier\n",
    "hotel_bookings_dropped_nan.sort_values('adr', ascending=False).iloc[0]"
   ]
  },
  {
   "cell_type": "markdown",
   "id": "23606a5d",
   "metadata": {},
   "source": [
    "|    |    |\n",
    "| -- | -- |\n",
    "| hotel | City Hotel |\n",
    "| is_canceled | 1 |\n",
    "| lead_time | 35 |\n",
    "| arrival_date_year | 2016 |\n",
    "| arrival_date_month | March |\n",
    "| arrival_date_week_number | 13 |\n",
    "| arrival_date_day_of_month | 25 |\n",
    "| stays_in_weekend_nights | 0 |\n",
    "| stays_in_week_nights | 1 |\n",
    "| adults | 2 |\n",
    "| children | 0.0 |\n",
    "| babies | 0 |\n",
    "| meal | BB |\n",
    "| country | PRT |\n",
    "| market_segment | Offline TA/TO |\n",
    "| distribution_channel | TA/TO |\n",
    "| is_repeated_guest | 0 |\n",
    "| previous_cancellations | 0 |\n",
    "| previous_bookings_not_canceled | 0 |\n",
    "| reserved_room_type | A |\n",
    "| assigned_room_type | A |\n",
    "| booking_changes | 1 |\n",
    "| deposit_type | Non Refund |\n",
    "| days_in_waiting_list | 0 |\n",
    "| customer_type | Transient |\n",
    "| adr | 5400.0 |\n",
    "| required_car_parking_spaces | 0 |\n",
    "| total_of_special_requests | 0 |\n",
    "| reservation_status | Canceled |\n",
    "| reservation_status_date | 19-02-16 |\n",
    "_Name: 48515, dtype: object_"
   ]
  },
  {
   "cell_type": "code",
   "execution_count": 40,
   "id": "e7aeecfb",
   "metadata": {
    "collapsed": true
   },
   "outputs": [
    {
     "data": {
      "image/png": "[encoded data removed]",
      "text/plain": [
       "<Figure size 1000x800 with 2 Axes>"
      ]
     },
     "metadata": {},
     "output_type": "display_data"
    }
   ],
   "source": [
    "plot = hotel_bookings_dropped_nan.plot.hist(\n",
    "    column=[\"adr\"],\n",
    "    by=\"hotel\",\n",
    "    bins=100,\n",
    "    figsize=(10, 8)\n",
    ")\n",
    "\n",
    "# the outlier squeezes the first histogram and makes it hard to compare them"
   ]
  },
  {
   "cell_type": "markdown",
   "id": "24f8c47a",
   "metadata": {},
   "source": [
    "![Hotel Booking Demand Dataset](assets/hotel_booking_demand_03.png)"
   ]
  },
  {
   "cell_type": "code",
   "execution_count": 46,
   "id": "e8bbe312",
   "metadata": {
    "collapsed": true
   },
   "outputs": [
    {
     "data": {
      "text/plain": [
       "48515"
      ]
     },
     "execution_count": 46,
     "metadata": {},
     "output_type": "execute_result"
    }
   ],
   "source": [
    "# let's find the outlier iloc and drop the row\n",
    "hotel_bookings_dropped_nan['adr'].idxmax()\n",
    "# 48515"
   ]
  },
  {
   "cell_type": "code",
   "execution_count": 48,
   "id": "3a575c6d",
   "metadata": {
    "collapsed": true
   },
   "outputs": [
    {
     "data": {
      "image/png": "[encoded data removed]",
      "text/plain": [
       "<Figure size 1000x800 with 2 Axes>"
      ]
     },
     "metadata": {},
     "output_type": "display_data"
    }
   ],
   "source": [
    "hotel_bookings_dropped_outlier = hotel_bookings_dropped_nan.drop(48515, axis=0)\n",
    "\n",
    "plot = hotel_bookings_dropped_outlier.plot.hist(\n",
    "    column=[\"adr\"],\n",
    "    by=\"hotel\",\n",
    "    bins=100,\n",
    "    figsize=(10, 8)\n",
    ")\n",
    "\n",
    "# nice :)"
   ]
  },
  {
   "cell_type": "markdown",
   "id": "7b670e6e",
   "metadata": {},
   "source": [
    "![Hotel Booking Demand Dataset](assets/hotel_booking_demand_04.png)"
   ]
  },
  {
   "cell_type": "code",
   "execution_count": 30,
   "id": "72502505",
   "metadata": {
    "collapsed": true
   },
   "outputs": [
    {
     "data": {
      "text/plain": [
       "hotel\n",
       "City Hotel      105.304465\n",
       "Resort Hotel     94.952930\n",
       "Name: adr, dtype: float64"
      ]
     },
     "execution_count": 30,
     "metadata": {},
     "output_type": "execute_result"
    }
   ],
   "source": [
    "# calculate the average daily rate `adr` for a guest staying at each hotel\n",
    "adr_by_hotel = hotel_bookings_dropped_nan.groupby('hotel').mean(numeric_only=True)['adr']\n",
    "adr_by_hotel"
   ]
  },
  {
   "cell_type": "markdown",
   "id": "9f874311",
   "metadata": {},
   "source": [
    "__Average Daily Rate__\n",
    "\n",
    "|    |    |\n",
    "| -- | -- |\n",
    "| hotel |  |\n",
    "| City Hotel | 105.304465 |\n",
    "| Resort Hotel | 94.952930 |\n",
    "_Name: adr, dtype: float64_"
   ]
  },
  {
   "cell_type": "markdown",
   "id": "fff7ed0d",
   "metadata": {},
   "source": [
    "#### Average Stays"
   ]
  },
  {
   "cell_type": "code",
   "execution_count": 42,
   "id": "7b8a1646",
   "metadata": {
    "collapsed": true
   },
   "outputs": [
    {
     "data": {
      "text/plain": [
       "0    0\n",
       "1    0\n",
       "2    1\n",
       "3    1\n",
       "4    2\n",
       "Name: total_days, dtype: int64"
      ]
     },
     "execution_count": 42,
     "metadata": {},
     "output_type": "execute_result"
    }
   ],
   "source": [
    "# how long do guest stay on average\n",
    "hotel_bookings_dropped_nan['total_days'] = hotel_bookings_dropped_nan['stays_in_weekend_nights'] + hotel_bookings_dropped_nan['stays_in_week_nights']\n",
    "hotel_bookings_dropped_nan['total_days'].head(5)"
   ]
  },
  {
   "cell_type": "markdown",
   "id": "cfcb25d4",
   "metadata": {},
   "source": [
    "|    |    |\n",
    "| -- | -- |\n",
    "| 0 | 0 |\n",
    "| 1 | 0 |\n",
    "| 2 | 1 |\n",
    "| 3 | 1 |\n",
    "| 4 | 2 |\n",
    "_Name: total\\_days, dtype: int64_"
   ]
  },
  {
   "cell_type": "code",
   "execution_count": 45,
   "id": "dd19b29a",
   "metadata": {
    "collapsed": true
   },
   "outputs": [
    {
     "data": {
      "text/plain": [
       "hotel\n",
       "City Hotel      3.0\n",
       "Resort Hotel    4.3\n",
       "Name: total_days, dtype: float64"
      ]
     },
     "execution_count": 45,
     "metadata": {},
     "output_type": "execute_result"
    }
   ],
   "source": [
    "average_stays = hotel_bookings_dropped_nan.groupby('hotel').mean(numeric_only=True).round(1)['total_days']\n",
    "average_stays\n",
    "\n",
    "# the average staying time is 3 and 4.3 days, respectively"
   ]
  },
  {
   "cell_type": "markdown",
   "id": "438e7bfc",
   "metadata": {},
   "source": [
    "|  hotel  |    |\n",
    "| -- | -- |\n",
    "| City Hotel | 3.0 |\n",
    "| Resort Hotel | 4.3 |\n",
    "_Name: total|_days, dtype: float64_"
   ]
  },
  {
   "cell_type": "markdown",
   "id": "a6233b2d",
   "metadata": {},
   "source": [
    "#### Average Cost per Stay"
   ]
  },
  {
   "cell_type": "code",
   "execution_count": 49,
   "id": "02301c4a",
   "metadata": {
    "collapsed": true
   },
   "outputs": [
    {
     "data": {
      "text/plain": [
       "0      0.0\n",
       "1      0.0\n",
       "2     75.0\n",
       "3     75.0\n",
       "4    196.0\n",
       "Name: total_cost, dtype: float64"
      ]
     },
     "execution_count": 49,
     "metadata": {},
     "output_type": "execute_result"
    }
   ],
   "source": [
    "# given the # of days and average daily adr we can calculate the average total cost per stay\n",
    "hotel_bookings_dropped_nan['total_cost'] = hotel_bookings_dropped_nan['total_days'] * hotel_bookings_dropped_nan['adr']\n",
    "hotel_bookings_dropped_nan['total_cost'].head(5)"
   ]
  },
  {
   "cell_type": "markdown",
   "id": "55320f9c",
   "metadata": {},
   "source": [
    "|    |    |\n",
    "| -- | -- |\n",
    "| 0 | 0.0 |\n",
    "| 1 | 0.0 |\n",
    "| 2 | 75.0 |\n",
    "| 3 | 75.0 |\n",
    "| 4 | 196.0 |\n",
    "_Name: total\\_days, dtype: float64_"
   ]
  },
  {
   "cell_type": "code",
   "execution_count": 50,
   "id": "7019bc83",
   "metadata": {
    "collapsed": true
   },
   "outputs": [
    {
     "data": {
      "text/plain": [
       "hotel\n",
       "City Hotel      318.66\n",
       "Resort Hotel    435.45\n",
       "Name: total_cost, dtype: float64"
      ]
     },
     "execution_count": 50,
     "metadata": {},
     "output_type": "execute_result"
    }
   ],
   "source": [
    "average_total_cost = hotel_bookings_dropped_nan.groupby('hotel').mean(numeric_only=True).round(2)['total_cost']\n",
    "average_total_cost"
   ]
  },
  {
   "cell_type": "markdown",
   "id": "ade23968",
   "metadata": {},
   "source": [
    "| hotel   |    |\n",
    "| -- | -- |\n",
    "| City Hotel | 318.66 |\n",
    "| Resort Hotel | 435.45 |\n",
    "_Name: total_days, dtype: float64_"
   ]
  },
  {
   "cell_type": "markdown",
   "id": "9104e3bf",
   "metadata": {},
   "source": [
    "#### Percentage of Returning Guest"
   ]
  },
  {
   "cell_type": "code",
   "execution_count": 54,
   "id": "6f4c5bef",
   "metadata": {
    "collapsed": true
   },
   "outputs": [
    {
     "data": {
      "text/plain": [
       "hotel\n",
       "City Hotel      79330\n",
       "Resort Hotel    40060\n",
       "dtype: int64"
      ]
     },
     "execution_count": 54,
     "metadata": {},
     "output_type": "execute_result"
    }
   ],
   "source": [
    "# total number of bookings per hotel\n",
    "hotel_bookings_dropped_nan.value_counts('hotel')"
   ]
  },
  {
   "cell_type": "markdown",
   "id": "295b95b2",
   "metadata": {},
   "source": [
    "| hotel   |    |\n",
    "| -- | -- |\n",
    "| City Hotel | 79330 |\n",
    "| Resort Hotel | 40060 |\n",
    "_dtype: int64_"
   ]
  },
  {
   "cell_type": "code",
   "execution_count": 58,
   "id": "44fb7204",
   "metadata": {
    "collapsed": true
   },
   "outputs": [
    {
     "data": {
      "text/plain": [
       "40060    City Hotel\n",
       "40061    City Hotel\n",
       "40062    City Hotel\n",
       "40063    City Hotel\n",
       "40064    City Hotel\n",
       "Name: hotel, dtype: object"
      ]
     },
     "execution_count": 58,
     "metadata": {},
     "output_type": "execute_result"
    }
   ],
   "source": [
    "# select only city hotel\n",
    "city_hotel_bookings = hotel_bookings_dropped_nan[hotel_bookings_dropped_nan['hotel'] == 'City Hotel']\n",
    "city_hotel_bookings['hotel'].head(5)"
   ]
  },
  {
   "cell_type": "markdown",
   "id": "87fe863f",
   "metadata": {},
   "source": [
    "|    |    |\n",
    "| -- | -- |\n",
    "| 40060 | City Hotel |\n",
    "| 40061 | City Hotel |\n",
    "| 40062 | City Hotel |\n",
    "| 40063 | City Hotel |\n",
    "| 40064 | City Hotel |\n",
    "_Name: hotel, dtype: object_"
   ]
  },
  {
   "cell_type": "code",
   "execution_count": 60,
   "id": "54b62a91",
   "metadata": {
    "collapsed": true
   },
   "outputs": [
    {
     "data": {
      "text/plain": [
       "0    Resort Hotel\n",
       "1    Resort Hotel\n",
       "2    Resort Hotel\n",
       "3    Resort Hotel\n",
       "4    Resort Hotel\n",
       "Name: hotel, dtype: object"
      ]
     },
     "execution_count": 60,
     "metadata": {},
     "output_type": "execute_result"
    }
   ],
   "source": [
    "# select only resort hotel\n",
    "resort_hotel_bookings = hotel_bookings_dropped_nan[hotel_bookings_dropped_nan['hotel'] == 'Resort Hotel']\n",
    "resort_hotel_bookings['hotel'].head(5)"
   ]
  },
  {
   "cell_type": "markdown",
   "id": "17c35273",
   "metadata": {},
   "source": [
    "|    |    |\n",
    "| -- | -- |\n",
    "| 0 | Resort Hotel |\n",
    "| 1 | Resort Hotel |\n",
    "| 2 | Resort Hotel |\n",
    "| 3 | Resort Hotel |\n",
    "| 4 | Resort Hotel |\n",
    "_Name: hotel, dtype: object_"
   ]
  },
  {
   "cell_type": "code",
   "execution_count": 63,
   "id": "4eddf1a7",
   "metadata": {
    "collapsed": true
   },
   "outputs": [
    {
     "data": {
      "text/plain": [
       "2032"
      ]
     },
     "execution_count": 63,
     "metadata": {},
     "output_type": "execute_result"
    }
   ],
   "source": [
    "returning_customer_city_hotel = sum(city_hotel_bookings['is_repeated_guest'] == 1)\n",
    "returning_customer_city_hotel\n",
    "# 2032"
   ]
  },
  {
   "cell_type": "code",
   "execution_count": 69,
   "id": "15fd015b",
   "metadata": {
    "collapsed": true
   },
   "outputs": [
    {
     "data": {
      "text/plain": [
       "79330"
      ]
     },
     "execution_count": 69,
     "metadata": {},
     "output_type": "execute_result"
    }
   ],
   "source": [
    "total_customer_city_hotel = hotel_bookings_dropped_nan.value_counts('hotel')['City Hotel']\n",
    "total_customer_city_hotel\n",
    "# 79330"
   ]
  },
  {
   "cell_type": "code",
   "execution_count": 68,
   "id": "8af185f7",
   "metadata": {
    "collapsed": true
   },
   "outputs": [
    {
     "data": {
      "text/plain": [
       "2.56"
      ]
     },
     "execution_count": 68,
     "metadata": {},
     "output_type": "execute_result"
    }
   ],
   "source": [
    "percentage_returning_customer_city_hotel = (\n",
    "    returning_customer_city_hotel * 100 / total_customer_city_hotel\n",
    ")\n",
    "percentage_returning_customer_city_hotel.round(2)\n",
    "# 2.56%"
   ]
  },
  {
   "cell_type": "code",
   "execution_count": 78,
   "id": "e8672bb8",
   "metadata": {
    "collapsed": true
   },
   "outputs": [
    {
     "data": {
      "text/plain": [
       "4.44"
      ]
     },
     "execution_count": 78,
     "metadata": {},
     "output_type": "execute_result"
    }
   ],
   "source": [
    "returning_customer_resort_hotel = sum(resort_hotel_bookings['is_repeated_guest'] == 1)\n",
    "total_customer_resort_hotel = hotel_bookings_dropped_nan.value_counts('hotel')['Resort Hotel']\n",
    "\n",
    "percentage_returning_customer_resort_hotel = (\n",
    "    returning_customer_resort_hotel * 100 / total_customer_resort_hotel\n",
    ")\n",
    "percentage_returning_customer_resort_hotel.round(2)\n",
    "# 4.44%"
   ]
  },
  {
   "cell_type": "code",
   "execution_count": 79,
   "id": "bd87fd10",
   "metadata": {
    "collapsed": true
   },
   "outputs": [
    {
     "data": {
      "text/html": [
       "<div>\n",
       "<style scoped>\n",
       "    .dataframe tbody tr th:only-of-type {\n",
       "        vertical-align: middle;\n",
       "    }\n",
       "\n",
       "    .dataframe tbody tr th {\n",
       "        vertical-align: top;\n",
       "    }\n",
       "\n",
       "    .dataframe thead th {\n",
       "        text-align: right;\n",
       "    }\n",
       "</style>\n",
       "<table border=\"1\" class=\"dataframe\">\n",
       "  <thead>\n",
       "    <tr style=\"text-align: right;\">\n",
       "      <th></th>\n",
       "      <th>Total Bookings</th>\n",
       "      <th>Returning Customer</th>\n",
       "      <th>Percentage</th>\n",
       "    </tr>\n",
       "  </thead>\n",
       "  <tbody>\n",
       "    <tr>\n",
       "      <th>City Hotel</th>\n",
       "      <td>79330</td>\n",
       "      <td>2032</td>\n",
       "      <td>2.56</td>\n",
       "    </tr>\n",
       "    <tr>\n",
       "      <th>Resort Hotel</th>\n",
       "      <td>40060</td>\n",
       "      <td>1778</td>\n",
       "      <td>4.44</td>\n",
       "    </tr>\n",
       "  </tbody>\n",
       "</table>\n",
       "</div>"
      ],
      "text/plain": [
       "              Total Bookings  Returning Customer  Percentage\n",
       "City Hotel             79330                2032        2.56\n",
       "Resort Hotel           40060                1778        4.44"
      ]
     },
     "execution_count": 79,
     "metadata": {},
     "output_type": "execute_result"
    }
   ],
   "source": [
    "# visualize\n",
    "hotel_index = ['City Hotel', 'Resort Hotel']\n",
    "booking_columns = ['Total Bookings', 'Returning Customer', 'Percentage']\n",
    "data_array = [\n",
    "    (\n",
    "        total_customer_city_hotel,\n",
    "        returning_customer_city_hotel,\n",
    "        percentage_returning_customer_city_hotel.round(2)\n",
    "    ),\n",
    "    (\n",
    "        total_customer_resort_hotel,\n",
    "        returning_customer_resort_hotel,\n",
    "        percentage_returning_customer_resort_hotel.round(2)\n",
    "    )\n",
    "]\n",
    "\n",
    "return_customer_df = pd.DataFrame(data_array, hotel_index, booking_columns)\n",
    "return_customer_df"
   ]
  },
  {
   "cell_type": "markdown",
   "id": "9049f878",
   "metadata": {},
   "source": [
    "| Hotel   |  Total Bookings  |  Returning Customer  | Percentage|\n",
    "| -- | -- | -- | -- |\n",
    "| City Hotel | 79330 | 2032 | 2.56 |\n",
    "| Resort Hotel | 40060 | 1778 | 5.07 |"
   ]
  },
  {
   "cell_type": "code",
   "execution_count": 87,
   "id": "d200f51a",
   "metadata": {
    "collapsed": true
   },
   "outputs": [
    {
     "data": {
      "image/png": "[encoded data removed]",
      "text/plain": [
       "<Figure size 1200x800 with 1 Axes>"
      ]
     },
     "metadata": {},
     "output_type": "display_data"
    }
   ],
   "source": [
    "plot = return_customer_df[\n",
    "    ['Total Bookings', 'Returning Customer']\n",
    "].plot.bar(figsize=(12,8), rot=0)"
   ]
  },
  {
   "cell_type": "markdown",
   "id": "d38255a5",
   "metadata": {},
   "source": [
    "![Hotel Booking Demand Dataset](assets/hotel_booking_demand_05.png)"
   ]
  },
  {
   "cell_type": "code",
   "execution_count": null,
   "id": "bd31c75a",
   "metadata": {},
   "outputs": [],
   "source": [
    "arrival_date_year \t2016\n",
    "arrival_date_month \tMarch\n",
    "arrival_date_day_of_month \t25\n",
    "Aug 27, 1989\n",
    "pd.to_datetime(date_series)"
   ]
  },
  {
   "cell_type": "code",
   "execution_count": 89,
   "id": "f55a989c",
   "metadata": {
    "collapsed": true
   },
   "outputs": [
    {
     "data": {
      "text/html": [
       "<div>\n",
       "<style scoped>\n",
       "    .dataframe tbody tr th:only-of-type {\n",
       "        vertical-align: middle;\n",
       "    }\n",
       "\n",
       "    .dataframe tbody tr th {\n",
       "        vertical-align: top;\n",
       "    }\n",
       "\n",
       "    .dataframe thead th {\n",
       "        text-align: right;\n",
       "    }\n",
       "</style>\n",
       "<table border=\"1\" class=\"dataframe\">\n",
       "  <thead>\n",
       "    <tr style=\"text-align: right;\">\n",
       "      <th></th>\n",
       "      <th>arrival_date_year</th>\n",
       "      <th>arrival_date_month</th>\n",
       "      <th>arrival_date_day_of_month</th>\n",
       "    </tr>\n",
       "  </thead>\n",
       "  <tbody>\n",
       "    <tr>\n",
       "      <th>40060</th>\n",
       "      <td>2015</td>\n",
       "      <td>July</td>\n",
       "      <td>1</td>\n",
       "    </tr>\n",
       "    <tr>\n",
       "      <th>40061</th>\n",
       "      <td>2015</td>\n",
       "      <td>July</td>\n",
       "      <td>1</td>\n",
       "    </tr>\n",
       "    <tr>\n",
       "      <th>40062</th>\n",
       "      <td>2015</td>\n",
       "      <td>July</td>\n",
       "      <td>1</td>\n",
       "    </tr>\n",
       "    <tr>\n",
       "      <th>40063</th>\n",
       "      <td>2015</td>\n",
       "      <td>July</td>\n",
       "      <td>1</td>\n",
       "    </tr>\n",
       "    <tr>\n",
       "      <th>40064</th>\n",
       "      <td>2015</td>\n",
       "      <td>July</td>\n",
       "      <td>2</td>\n",
       "    </tr>\n",
       "  </tbody>\n",
       "</table>\n",
       "</div>"
      ],
      "text/plain": [
       "       arrival_date_year arrival_date_month  arrival_date_day_of_month\n",
       "40060               2015               July                          1\n",
       "40061               2015               July                          1\n",
       "40062               2015               July                          1\n",
       "40063               2015               July                          1\n",
       "40064               2015               July                          2"
      ]
     },
     "execution_count": 89,
     "metadata": {},
     "output_type": "execute_result"
    }
   ],
   "source": [
    "city_hotel_bookings[[\n",
    "    'arrival_date_year',\n",
    "    'arrival_date_month',\n",
    "    'arrival_date_day_of_month'\n",
    "]].head(5)"
   ]
  },
  {
   "cell_type": "markdown",
   "id": "d88e157b",
   "metadata": {},
   "source": [
    "| | arrival_date_year | arrival_date_month | arrival_date_day_of_month |\n",
    "| -- | -- | -- | -- |\n",
    "| 40060 | 2015 | July | 1 |\n",
    "| 40061 | 2015 | July | 1 |\n",
    "| 40062 | 2015 | July | 1 |\n",
    "| 40063 | 2015 | July | 1 |\n",
    "| 40064 | 2015 | July | 2 |"
   ]
  },
  {
   "cell_type": "markdown",
   "id": "3d9b9572",
   "metadata": {},
   "source": [
    "#### Correlate Bookings to Day of the Week"
   ]
  },
  {
   "cell_type": "code",
   "execution_count": 97,
   "id": "8c16208b",
   "metadata": {
    "collapsed": true
   },
   "outputs": [
    {
     "name": "stderr",
     "output_type": "stream",
     "text": [
      "/tmp/ipykernel_64089/790920676.py:1: SettingWithCopyWarning: \n",
      "A value is trying to be set on a copy of a slice from a DataFrame.\n",
      "Try using .loc[row_indexer,col_indexer] = value instead\n",
      "\n",
      "See the caveats in the documentation: https://pandas.pydata.org/pandas-docs/stable/user_guide/indexing.html#returning-a-view-versus-a-copy\n",
      "  city_hotel_bookings['datetime'] = (\n"
     ]
    },
    {
     "data": {
      "text/plain": [
       "40060    2015-07-01\n",
       "40061    2015-07-01\n",
       "40062    2015-07-01\n",
       "40063    2015-07-01\n",
       "40064    2015-07-02\n",
       "            ...    \n",
       "119385   2017-08-30\n",
       "119386   2017-08-31\n",
       "119387   2017-08-31\n",
       "119388   2017-08-31\n",
       "119389   2017-08-29\n",
       "Name: datetime, Length: 79330, dtype: datetime64[ns]"
      ]
     },
     "execution_count": 97,
     "metadata": {},
     "output_type": "execute_result"
    }
   ],
   "source": [
    "city_hotel_bookings['datetime'] = (\n",
    "    pd.to_datetime(\n",
    "        city_hotel_bookings['arrival_date_month'] + ' ' + city_hotel_bookings['arrival_date_day_of_month'].astype(str) + ' , ' + city_hotel_bookings['arrival_date_year'].astype(str)\n",
    "    )\n",
    ")\n",
    "\n",
    "city_hotel_bookings['datetime']"
   ]
  },
  {
   "cell_type": "markdown",
   "id": "dd1f9187",
   "metadata": {},
   "source": [
    "|  |  |\n",
    "| -- | -- |\n",
    "| 40060 | 2015-07-01 |\n",
    "| 40061 | 2015-07-01 |\n",
    "| 40062 | 2015-07-01 |\n",
    "| 40063 | 2015-07-01 |\n",
    "| 40064 | 2015-07-02 |\n",
    "| ... |\n",
    "| 119385 | 2017-08-30 |\n",
    "| 119386 | 2017-08-31 |\n",
    "| 119387 | 2017-08-31 |\n",
    "| 119388 | 2017-08-31 |\n",
    "| 119389 | 2017-08-29 |\n",
    "_Name: datetime, Length: 79330, dtype: datetime64[ns]_"
   ]
  },
  {
   "cell_type": "code",
   "execution_count": 105,
   "id": "22df8999",
   "metadata": {
    "collapsed": true
   },
   "outputs": [
    {
     "data": {
      "text/plain": [
       "3"
      ]
     },
     "execution_count": 105,
     "metadata": {},
     "output_type": "execute_result"
    }
   ],
   "source": [
    "# get weekday out of datetime object\n",
    "city_hotel_bookings['datetime'].loc[40064].weekday()\n",
    "# 3 == Thursday"
   ]
  },
  {
   "cell_type": "code",
   "execution_count": 129,
   "id": "847bf06c",
   "metadata": {},
   "outputs": [],
   "source": [
    "days = ['Monday', 'Tuesday', 'Wednesday', 'Thursday', 'Friday', 'Saturday', 'Sunday']\n",
    "\n",
    "def weekday(day_of_the_week):\n",
    "        return days[day_of_the_week]"
   ]
  },
  {
   "cell_type": "code",
   "execution_count": 131,
   "id": "773ae55f",
   "metadata": {
    "collapsed": true
   },
   "outputs": [
    {
     "name": "stderr",
     "output_type": "stream",
     "text": [
      "/tmp/ipykernel_64089/2768366050.py:1: SettingWithCopyWarning: \n",
      "A value is trying to be set on a copy of a slice from a DataFrame.\n",
      "Try using .loc[row_indexer,col_indexer] = value instead\n",
      "\n",
      "See the caveats in the documentation: https://pandas.pydata.org/pandas-docs/stable/user_guide/indexing.html#returning-a-view-versus-a-copy\n",
      "  city_hotel_bookings['day_of_the_week'] = np.vectorize(weekday)(\n"
     ]
    },
    {
     "data": {
      "text/plain": [
       "119385    Wednesday\n",
       "119386     Thursday\n",
       "119387     Thursday\n",
       "119388     Thursday\n",
       "119389      Tuesday\n",
       "Name: day_of_the_week, dtype: object"
      ]
     },
     "execution_count": 131,
     "metadata": {},
     "output_type": "execute_result"
    }
   ],
   "source": [
    "city_hotel_bookings['day_of_the_week'] = np.vectorize(weekday)(\n",
    "        city_hotel_bookings['datetime'].dt.weekday\n",
    ")\n",
    "\n",
    "city_hotel_bookings['day_of_the_week'].tail(5)"
   ]
  },
  {
   "cell_type": "markdown",
   "id": "37d9e802",
   "metadata": {},
   "source": [
    "|  |  |\n",
    "| -- | -- |\n",
    "| 119385 | Wednesday |\n",
    "| 119386 | Thursday |\n",
    "| 119387 | Thursday |\n",
    "| 119388 | Thursday |\n",
    "| 119389 | Tuesday |\n",
    "_Name: day\\_of\\_the\\_week, dtype: object_"
   ]
  },
  {
   "cell_type": "code",
   "execution_count": 140,
   "id": "d4e33831",
   "metadata": {
    "collapsed": true
   },
   "outputs": [
    {
     "data": {
      "text/plain": [
       "day_of_the_week\n",
       "Friday       13955\n",
       "Thursday     13009\n",
       "Monday       11823\n",
       "Wednesday    11229\n",
       "Saturday     10993\n",
       "Sunday        9194\n",
       "Tuesday       9127\n",
       "dtype: int64"
      ]
     },
     "execution_count": 140,
     "metadata": {},
     "output_type": "execute_result"
    }
   ],
   "source": [
    "bookings_by_weekday_city_hotel = city_hotel_bookings.value_counts('day_of_the_week')\n",
    "bookings_by_weekday_city_hotel"
   ]
  },
  {
   "cell_type": "markdown",
   "id": "4861a791",
   "metadata": {},
   "source": [
    "| day_of_the_week |  |\n",
    "| -- | -- |\n",
    "| Friday | 13955 |\n",
    "| Thursday | 13009 |\n",
    "| Monday | 11823 |\n",
    "| Wednesday | 11229 |\n",
    "| Saturday | 10993 |\n",
    "| Sunday | 9194 |\n",
    "| Tuesday | 9127 |\n",
    "_dtype: int64_"
   ]
  },
  {
   "cell_type": "code",
   "execution_count": 141,
   "id": "9bd1d79e",
   "metadata": {
    "collapsed": true
   },
   "outputs": [
    {
     "data": {
      "text/plain": [
       "<AxesSubplot: xlabel='day_of_the_week'>"
      ]
     },
     "execution_count": 141,
     "metadata": {},
     "output_type": "execute_result"
    },
    {
     "data": {
      "image/png": "[encoded data removed]",
      "text/plain": [
       "<Figure size 1200x800 with 1 Axes>"
      ]
     },
     "metadata": {},
     "output_type": "display_data"
    }
   ],
   "source": [
    "bookings_by_weekday_city_hotel.plot.bar(figsize=(12,8), rot=0)"
   ]
  },
  {
   "cell_type": "markdown",
   "id": "d0dcfc7d",
   "metadata": {},
   "source": [
    "![Hotel Booking Demand Dataset](assets/hotel_booking_demand_06.png)"
   ]
  },
  {
   "cell_type": "code",
   "execution_count": 136,
   "id": "086960f3",
   "metadata": {
    "collapsed": true
   },
   "outputs": [
    {
     "name": "stderr",
     "output_type": "stream",
     "text": [
      "/tmp/ipykernel_64089/3536435433.py:1: SettingWithCopyWarning: \n",
      "A value is trying to be set on a copy of a slice from a DataFrame.\n",
      "Try using .loc[row_indexer,col_indexer] = value instead\n",
      "\n",
      "See the caveats in the documentation: https://pandas.pydata.org/pandas-docs/stable/user_guide/indexing.html#returning-a-view-versus-a-copy\n",
      "  resort_hotel_bookings['datetime'] = (\n",
      "/tmp/ipykernel_64089/3536435433.py:7: SettingWithCopyWarning: \n",
      "A value is trying to be set on a copy of a slice from a DataFrame.\n",
      "Try using .loc[row_indexer,col_indexer] = value instead\n",
      "\n",
      "See the caveats in the documentation: https://pandas.pydata.org/pandas-docs/stable/user_guide/indexing.html#returning-a-view-versus-a-copy\n",
      "  resort_hotel_bookings['day_of_the_week'] = np.vectorize(weekday)(\n"
     ]
    },
    {
     "data": {
      "text/plain": [
       "day_of_the_week\n",
       "Saturday     7062\n",
       "Monday       6348\n",
       "Thursday     6245\n",
       "Friday       5676\n",
       "Sunday       4947\n",
       "Wednesday    4910\n",
       "Tuesday      4872\n",
       "dtype: int64"
      ]
     },
     "execution_count": 136,
     "metadata": {},
     "output_type": "execute_result"
    }
   ],
   "source": [
    "resort_hotel_bookings['datetime'] = (\n",
    "    pd.to_datetime(\n",
    "        resort_hotel_bookings['arrival_date_month'] + ' ' + resort_hotel_bookings['arrival_date_day_of_month'].astype(str) + ' , ' + resort_hotel_bookings['arrival_date_year'].astype(str)\n",
    "    )\n",
    ")\n",
    "\n",
    "resort_hotel_bookings['day_of_the_week'] = np.vectorize(weekday)(\n",
    "        resort_hotel_bookings['datetime'].dt.weekday\n",
    ")\n",
    "\n",
    "bookings_by_weekday_resort_hotel = resort_hotel_bookings.value_counts('day_of_the_week')\n",
    "bookings_by_weekday_resort_hotel"
   ]
  },
  {
   "cell_type": "markdown",
   "id": "90c5b858",
   "metadata": {},
   "source": [
    "| day_of_the_week |  |\n",
    "| -- | -- |\n",
    "| Saturday | 7062 |\n",
    "| Monday | 6348 |\n",
    "| Thursday | 6245 |\n",
    "| Friday | 5676 |\n",
    "| Sunday | 4947 |\n",
    "| Wednesday | 4910 |\n",
    "| Tuesday | 4872 |\n",
    "_dtype: int64_"
   ]
  },
  {
   "cell_type": "code",
   "execution_count": 138,
   "id": "e19b5fdf",
   "metadata": {
    "collapsed": true
   },
   "outputs": [
    {
     "data": {
      "text/plain": [
       "<AxesSubplot: xlabel='day_of_the_week'>"
      ]
     },
     "execution_count": 138,
     "metadata": {},
     "output_type": "execute_result"
    },
    {
     "data": {
      "image/png": "[encoded data removed]",
      "text/plain": [
       "<Figure size 1200x800 with 1 Axes>"
      ]
     },
     "metadata": {},
     "output_type": "display_data"
    }
   ],
   "source": [
    "bookings_by_weekday_resort_hotel.plot.bar(figsize=(12,8), rot=0)"
   ]
  },
  {
   "cell_type": "markdown",
   "id": "705b3a82",
   "metadata": {},
   "source": [
    "![Hotel Booking Demand Dataset](assets/hotel_booking_demand_07.png)"
   ]
  },
  {
   "cell_type": "markdown",
   "id": "7cd22396",
   "metadata": {},
   "source": [
    "#### Bookings within a Date Range"
   ]
  },
  {
   "cell_type": "code",
   "execution_count": 143,
   "id": "48748ad5",
   "metadata": {},
   "outputs": [
    {
     "data": {
      "text/plain": [
       "58152"
      ]
     },
     "execution_count": 143,
     "metadata": {},
     "output_type": "execute_result"
    }
   ],
   "source": [
    "first_15 = hotel_bookings_dropped_nan['arrival_date_day_of_month'].apply(lambda day: day in range(1,16)).sum()\n",
    "first_15\n",
    "# 58152"
   ]
  },
  {
   "cell_type": "code",
   "execution_count": 144,
   "id": "fda83280",
   "metadata": {
    "collapsed": true
   },
   "outputs": [
    {
     "data": {
      "text/plain": [
       "65434"
      ]
     },
     "execution_count": 144,
     "metadata": {},
     "output_type": "execute_result"
    }
   ],
   "source": [
    "last_15 = hotel_bookings_dropped_nan['arrival_date_day_of_month'].apply(lambda day: day in range(15,32)).sum()\n",
    "last_15\n",
    "# 65434"
   ]
  },
  {
   "cell_type": "markdown",
   "id": "6fcfd84f",
   "metadata": {},
   "source": []
  }
 ],
 "metadata": {
  "jupytext": {
   "formats": "ipynb,md"
  },
  "kernelspec": {
   "display_name": "Python 3 (ipykernel)",
   "language": "python",
   "name": "python3"
  },
  "language_info": {
   "codemirror_mode": {
    "name": "ipython",
    "version": 3
   },
   "file_extension": ".py",
   "mimetype": "text/x-python",
   "name": "python",
   "nbconvert_exporter": "python",
   "pygments_lexer": "ipython3",
   "version": "3.10.10"
  }
 },
 "nbformat": 4,
 "nbformat_minor": 5
}
